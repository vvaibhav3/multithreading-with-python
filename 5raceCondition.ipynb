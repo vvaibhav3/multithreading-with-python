{
 "cells": [
  {
   "cell_type": "code",
   "execution_count": 16,
   "metadata": {},
   "outputs": [],
   "source": [
    "import threading\n",
    "amount=0"
   ]
  },
  {
   "cell_type": "code",
   "execution_count": 17,
   "metadata": {},
   "outputs": [],
   "source": [
    "def deposit(depAmount):\n",
    "    global amount\n",
    "    # to understand synchronization more clearly\n",
    "    for i in range(depAmount):\n",
    "        amount+=1"
   ]
  },
  {
   "cell_type": "code",
   "execution_count": 23,
   "metadata": {},
   "outputs": [],
   "source": [
    "def twoThreadsDeposit(depAmount):\n",
    "    thread1=threading.Thread(target=deposit,args=(depAmount,))\n",
    "    thread2=threading.Thread(target=deposit,args=(depAmount,))\n",
    "\n",
    "    thread1.start()\n",
    "    thread2.start()\n",
    "\n",
    "    thread1.join()\n",
    "    thread2.join()"
   ]
  },
  {
   "cell_type": "code",
   "execution_count": 25,
   "metadata": {},
   "outputs": [
    {
     "name": "stdout",
     "output_type": "stream",
     "text": [
      "Amount : 200\n"
     ]
    }
   ],
   "source": [
    "amount=0\n",
    "twoThreadsDeposit(100)\n",
    "print(\"Amount : %s\" %(amount))"
   ]
  },
  {
   "cell_type": "code",
   "execution_count": 26,
   "metadata": {},
   "outputs": [
    {
     "name": "stdout",
     "output_type": "stream",
     "text": [
      "Amount : 20000004\n"
     ]
    }
   ],
   "source": [
    "amount=0\n",
    "# this may produce unexpected result becoz both threads are accessing shared variable without any restriction\n",
    "# increase the value to get unexpected result\n",
    "twoThreadsDeposit(10000002)\n",
    "print(\"Amount : %s\" %(amount))"
   ]
  }
 ],
 "metadata": {
  "interpreter": {
   "hash": "369f2c481f4da34e4445cda3fffd2e751bd1c4d706f27375911949ba6bb62e1c"
  },
  "kernelspec": {
   "display_name": "Python 3.10.1 64-bit",
   "language": "python",
   "name": "python3"
  },
  "language_info": {
   "codemirror_mode": {
    "name": "ipython",
    "version": 3
   },
   "file_extension": ".py",
   "mimetype": "text/x-python",
   "name": "python",
   "nbconvert_exporter": "python",
   "pygments_lexer": "ipython3",
   "version": "3.10.1"
  },
  "orig_nbformat": 4
 },
 "nbformat": 4,
 "nbformat_minor": 2
}
