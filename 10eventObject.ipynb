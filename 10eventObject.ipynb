{
 "cells": [
  {
   "cell_type": "code",
   "execution_count": 1,
   "metadata": {},
   "outputs": [],
   "source": [
    "# event's are another way of synchronization\n",
    "# they are good for communicating with each other\n",
    "# each event includes flag by using this threads can communicate with each other\n",
    "import threading\n",
    "import time"
   ]
  },
  {
   "cell_type": "code",
   "execution_count": 2,
   "metadata": {},
   "outputs": [
    {
     "data": {
      "text/plain": [
       "['__class__',\n",
       " '__delattr__',\n",
       " '__dict__',\n",
       " '__dir__',\n",
       " '__doc__',\n",
       " '__eq__',\n",
       " '__format__',\n",
       " '__ge__',\n",
       " '__getattribute__',\n",
       " '__gt__',\n",
       " '__hash__',\n",
       " '__init__',\n",
       " '__init_subclass__',\n",
       " '__le__',\n",
       " '__lt__',\n",
       " '__module__',\n",
       " '__ne__',\n",
       " '__new__',\n",
       " '__reduce__',\n",
       " '__reduce_ex__',\n",
       " '__repr__',\n",
       " '__setattr__',\n",
       " '__sizeof__',\n",
       " '__str__',\n",
       " '__subclasshook__',\n",
       " '__weakref__',\n",
       " '_at_fork_reinit',\n",
       " '_cond',\n",
       " '_flag',\n",
       " 'clear',\n",
       " 'isSet',\n",
       " 'is_set',\n",
       " 'set',\n",
       " 'wait']"
      ]
     },
     "execution_count": 2,
     "metadata": {},
     "output_type": "execute_result"
    }
   ],
   "source": [
    "event=threading.Event()\n",
    "dir(event) # last 5 function's are imp"
   ]
  },
  {
   "cell_type": "code",
   "execution_count": 3,
   "metadata": {},
   "outputs": [
    {
     "name": "stdout",
     "output_type": "stream",
     "text": [
      "True\n",
      "True\n",
      "False\n"
     ]
    }
   ],
   "source": [
    "event.set() # sets flag to true\n",
    "print(event.is_set())\n",
    "event.wait() # blocks if flag is false\n",
    "print(event.is_set())\n",
    "event.clear() # sets flag to flase\n",
    "print(event.is_set())"
   ]
  },
  {
   "cell_type": "code",
   "execution_count": 5,
   "metadata": {},
   "outputs": [
    {
     "name": "stdout",
     "output_type": "stream",
     "text": [
      "True\n",
      "False\n"
     ]
    }
   ],
   "source": [
    "# infinite loop\n",
    "event.set() # sets flag to true\n",
    "print(event.is_set())\n",
    "event.clear() # sets flag to flase\n",
    "print(event.is_set())\n",
    "event.wait() # blocks if flag is false\n",
    "print(event.is_set())"
   ]
  },
  {
   "cell_type": "code",
   "execution_count": 4,
   "metadata": {},
   "outputs": [],
   "source": [
    "# meeting example\n",
    "meeting = threading.Event()"
   ]
  },
  {
   "cell_type": "code",
   "execution_count": 7,
   "metadata": {},
   "outputs": [],
   "source": [
    "def holdMeeting():\n",
    "    meeting.set()\n",
    "    print(\"Event is set , meeting has begun\")\n",
    "\n",
    "    time.sleep(5)\n",
    "    print(\"Meeting is complete , clearing the event\")\n",
    "    meeting.clear()\n",
    "\n",
    "def enterConferenceRoom():\n",
    "    time.sleep(1)\n",
    "    meeting.wait()\n",
    "\n",
    "    while meeting.is_set():\n",
    "        print(\"Waiting for meeting to finish\")\n",
    "        time.sleep(0.5)\n",
    "    \n",
    "    print(\"Meeting is done entering in conference room\")"
   ]
  },
  {
   "cell_type": "code",
   "execution_count": 8,
   "metadata": {},
   "outputs": [],
   "source": [
    "t1=threading.Thread(target=holdMeeting)\n",
    "t2=threading.Thread(target=enterConferenceRoom)"
   ]
  },
  {
   "cell_type": "code",
   "execution_count": 9,
   "metadata": {},
   "outputs": [
    {
     "name": "stdout",
     "output_type": "stream",
     "text": [
      "Event is set , meeting has begun\n",
      "Waiting for meeting to finish\n",
      "Waiting for meeting to finish\n",
      "Waiting for meeting to finish\n",
      "Waiting for meeting to finish\n",
      "Waiting for meeting to finish\n",
      "Waiting for meeting to finish\n",
      "Waiting for meeting to finish\n",
      "Waiting for meeting to finish\n",
      "Meeting is complete , clearing the event\n",
      "Meeting is done entering in conference room\n"
     ]
    }
   ],
   "source": [
    "t1.start()\n",
    "t2.start()\n",
    "\n",
    "t1.join()\n",
    "t2.join()"
   ]
  }
 ],
 "metadata": {
  "interpreter": {
   "hash": "369f2c481f4da34e4445cda3fffd2e751bd1c4d706f27375911949ba6bb62e1c"
  },
  "kernelspec": {
   "display_name": "Python 3.10.1 64-bit",
   "language": "python",
   "name": "python3"
  },
  "language_info": {
   "codemirror_mode": {
    "name": "ipython",
    "version": 3
   },
   "file_extension": ".py",
   "mimetype": "text/x-python",
   "name": "python",
   "nbconvert_exporter": "python",
   "pygments_lexer": "ipython3",
   "version": "3.10.1"
  },
  "orig_nbformat": 4
 },
 "nbformat": 4,
 "nbformat_minor": 2
}
