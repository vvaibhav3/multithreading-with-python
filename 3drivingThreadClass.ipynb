{
 "cells": [
  {
   "cell_type": "code",
   "execution_count": 1,
   "metadata": {},
   "outputs": [],
   "source": [
    "import threading\n",
    "import time"
   ]
  },
  {
   "cell_type": "code",
   "execution_count": 18,
   "metadata": {},
   "outputs": [],
   "source": [
    "# pretty print to format python output\n",
    "from pprint import pprint\n",
    "\n",
    "def threadInfoFunc():\n",
    "    print(\"Total threads active : \")\n",
    "    pprint(threading.active_count()) # to print total no of active threads\n",
    "    print(\"All threads list : \")\n",
    "    pprint(threading.enumerate()) # list of all active threads\n",
    "    print(\"Current thread info : \")\n",
    "    pprint(threading.current_thread().name) # to print details of current thread"
   ]
  },
  {
   "cell_type": "code",
   "execution_count": 16,
   "metadata": {},
   "outputs": [],
   "source": [
    "#using name attribute of current thread to print thread name\n",
    "#u can also use getName() method of current thread\n",
    "def sleepFunc():\n",
    "    time.sleep(2)\n",
    "    print(\"%s : I am sleeping\" %(threading.current_thread().name))"
   ]
  },
  {
   "cell_type": "code",
   "execution_count": 21,
   "metadata": {},
   "outputs": [
    {
     "name": "stdout",
     "output_type": "stream",
     "text": [
      "Thread-11 (sleepFunc) : I am sleeping\n",
      "Total threads active : \n",
      "6\n",
      "All threads list : \n",
      "[<_MainThread(MainThread, started 8744)>,\n",
      " <Thread(IOPub, started daemon 2340)>,\n",
      " <Heartbeat(Heartbeat, started daemon 7076)>,\n",
      " <ControlThread(Control, started daemon 2700)>,\n",
      " <HistorySavingThread(IPythonHistorySavingThread, started 2008)>,\n",
      " <ParentPollerWindows(Thread-2, started daemon 6628)>]\n",
      "Current thread info : \n",
      "'MainThread'\n"
     ]
    }
   ],
   "source": [
    "thread1=threading.Thread(target=sleepFunc)\n",
    "thread1.start()\n",
    "thread1.join()\n",
    "#check thread info\n",
    "threadInfoFunc()"
   ]
  },
  {
   "cell_type": "code",
   "execution_count": 24,
   "metadata": {},
   "outputs": [],
   "source": [
    "def calSquare(num):\n",
    "    result=num*num\n",
    "    print(f\"num {num} : result {result}\")"
   ]
  },
  {
   "cell_type": "code",
   "execution_count": 26,
   "metadata": {},
   "outputs": [
    {
     "name": "stdout",
     "output_type": "stream",
     "text": [
      "num 1 : result 1\n",
      "num 2 : result 4\n",
      "num 3 : result 9\n",
      "num 4 : result 16\n"
     ]
    }
   ],
   "source": [
    "# creating multiple thread to calculate square\n",
    "# passing parameters to thread function using args\n",
    "nums=[1,2,3,4]\n",
    "\n",
    "for n in nums:\n",
    "    thread=threading.Thread(target=calSquare,args=(n,)) # args accepts tuple data and for single arg we have to add , at end\n",
    "    thread.start()\n",
    "    thread.join()"
   ]
  },
  {
   "cell_type": "code",
   "execution_count": 27,
   "metadata": {},
   "outputs": [
    {
     "name": "stdout",
     "output_type": "stream",
     "text": [
      "i am sleeping ... Thread-24\n",
      "i am MainThread\n"
     ]
    }
   ],
   "source": [
    "# creating sublcass of thread class\n",
    "# you can ovverride only two methods of thread class : init and run\n",
    "\n",
    "class drivedThread(threading.Thread):\n",
    "     \n",
    "     def run(self):\n",
    "         time.sleep(2)\n",
    "         print(\"i am sleeping ... %s\" %(threading.current_thread().name))\n",
    "\n",
    "obj1=drivedThread()\n",
    "obj1.start()\n",
    "obj1.join()\n",
    "\n",
    "print(\"i am %s\" %(threading.current_thread().name))"
   ]
  }
 ],
 "metadata": {
  "interpreter": {
   "hash": "369f2c481f4da34e4445cda3fffd2e751bd1c4d706f27375911949ba6bb62e1c"
  },
  "kernelspec": {
   "display_name": "Python 3.10.1 64-bit",
   "language": "python",
   "name": "python3"
  },
  "language_info": {
   "codemirror_mode": {
    "name": "ipython",
    "version": 3
   },
   "file_extension": ".py",
   "mimetype": "text/x-python",
   "name": "python",
   "nbconvert_exporter": "python",
   "pygments_lexer": "ipython3",
   "version": "3.10.1"
  },
  "orig_nbformat": 4
 },
 "nbformat": 4,
 "nbformat_minor": 2
}
