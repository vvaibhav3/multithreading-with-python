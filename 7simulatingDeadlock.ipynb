{
 "cells": [
  {
   "cell_type": "code",
   "execution_count": 3,
   "metadata": {},
   "outputs": [],
   "source": [
    "import threading\n",
    "import time\n",
    "\n",
    "dataOne=3\n",
    "dataTwo=5"
   ]
  },
  {
   "cell_type": "code",
   "execution_count": 4,
   "metadata": {},
   "outputs": [],
   "source": [
    "def myProcess(lockOne,lockTwo):\n",
    "     global dataOne\n",
    "     global dataTwo\n",
    "\n",
    "     lockOne.acquire()\n",
    "     print(threading.current_thread().name + \"increamenting dataOne value\")\n",
    "     dataOne+=1\n",
    "     time.sleep(1)\n",
    "\n",
    "     lockTwo.acquire()\n",
    "     print(threading.current_thread().name + \"increamenting dataTwo value\")\n",
    "     dataTwo+=1\n",
    "     time.sleep(1)\n",
    "\n",
    "     lockOne.release()\n",
    "     lockTwo.release()"
   ]
  },
  {
   "cell_type": "code",
   "execution_count": 5,
   "metadata": {},
   "outputs": [],
   "source": [
    "lockOne=threading.Lock()\n",
    "lockTwo=threading.Lock()"
   ]
  },
  {
   "cell_type": "code",
   "execution_count": 5,
   "metadata": {},
   "outputs": [
    {
     "name": "stdout",
     "output_type": "stream",
     "text": [
      "Thread-5 (myProcess)increamenting dataOne value\n",
      "Thread-6 (myProcess)increamenting dataOne value\n"
     ]
    }
   ],
   "source": [
    "# deadlock simulation\n",
    "thread1=threading.Thread(target=myProcess,args=(lockOne,lockTwo))\n",
    "thread2=threading.Thread(target=myProcess,args=(lockTwo,lockOne))\n",
    "\n",
    "thread1.start()\n",
    "thread2.start()\n",
    "\n",
    "thread1.join()\n",
    "thread2.join()"
   ]
  },
  {
   "cell_type": "code",
   "execution_count": 7,
   "metadata": {},
   "outputs": [
    {
     "name": "stdout",
     "output_type": "stream",
     "text": [
      "Thread-5 (myProcess)increamenting dataOne value\n",
      "Thread-5 (myProcess)increamenting dataTwo value\n",
      "Thread-6 (myProcess)increamenting dataOne value\n",
      "Thread-6 (myProcess)increamenting dataTwo value\n"
     ]
    }
   ],
   "source": [
    "# no deadlock\n",
    "thread1=threading.Thread(target=myProcess,args=(lockOne,lockTwo))\n",
    "thread2=threading.Thread(target=myProcess,args=(lockOne,lockTwo))\n",
    "\n",
    "thread1.start()\n",
    "thread2.start()\n",
    "\n",
    "thread1.join()\n",
    "thread2.join()"
   ]
  },
  {
   "cell_type": "code",
   "execution_count": 10,
   "metadata": {},
   "outputs": [
    {
     "name": "stdout",
     "output_type": "stream",
     "text": [
      "7\n",
      "9\n"
     ]
    }
   ],
   "source": [
    "print(dataOne)\n",
    "print(dataTwo)"
   ]
  }
 ],
 "metadata": {
  "interpreter": {
   "hash": "369f2c481f4da34e4445cda3fffd2e751bd1c4d706f27375911949ba6bb62e1c"
  },
  "kernelspec": {
   "display_name": "Python 3.10.1 64-bit",
   "language": "python",
   "name": "python3"
  },
  "language_info": {
   "codemirror_mode": {
    "name": "ipython",
    "version": 3
   },
   "file_extension": ".py",
   "mimetype": "text/x-python",
   "name": "python",
   "nbconvert_exporter": "python",
   "pygments_lexer": "ipython3",
   "version": "3.10.1"
  },
  "orig_nbformat": 4
 },
 "nbformat": 4,
 "nbformat_minor": 2
}
