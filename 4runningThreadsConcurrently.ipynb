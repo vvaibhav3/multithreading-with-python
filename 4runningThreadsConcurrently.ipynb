{
 "cells": [
  {
   "cell_type": "code",
   "execution_count": 1,
   "metadata": {},
   "outputs": [],
   "source": [
    "import threading\n",
    "import time"
   ]
  },
  {
   "cell_type": "code",
   "execution_count": 2,
   "metadata": {},
   "outputs": [],
   "source": [
    "# pretty print to format python output\n",
    "from pprint import pprint\n",
    "\n",
    "def threadInfoFunc():\n",
    "    print(\"Total threads active : \")\n",
    "    pprint(threading.active_count()) # to print total no of active threads\n",
    "    print(\"All threads list : \")\n",
    "    pprint(threading.enumerate()) # list of all active threads\n",
    "    print(\"Current thread info : \")\n",
    "    pprint(threading.current_thread().name) # to print details of current thread"
   ]
  },
  {
   "cell_type": "code",
   "execution_count": 8,
   "metadata": {},
   "outputs": [
    {
     "name": "stdout",
     "output_type": "stream",
     "text": [
      "hello\n",
      "hello\n",
      "hello\n",
      "hello\n",
      "hello\n",
      "hello\n",
      "world...\n",
      "world...\n",
      "world...\n",
      "world...\n",
      "world...\n",
      "world...\n",
      "Total time : 12\n"
     ]
    }
   ],
   "source": [
    "def greeting1():\n",
    "    for i in range(6):\n",
    "        print(\"hello\")\n",
    "        time.sleep(1)\n",
    "\n",
    "def greeting2():\n",
    "    for i in range(6):\n",
    "        print(\"world...\")\n",
    "        time.sleep(1)\n",
    "\n",
    "\n",
    "start_time=time.time()\n",
    "\n",
    "greeting1()\n",
    "greeting2()\n",
    "\n",
    "end_time=time.time()\n",
    "\n",
    "print(\"Total time : %d\" %(end_time-start_time))"
   ]
  },
  {
   "cell_type": "code",
   "execution_count": 9,
   "metadata": {},
   "outputs": [
    {
     "name": "stdout",
     "output_type": "stream",
     "text": [
      "hello\n",
      "world...\n",
      "helloworld...\n",
      "\n",
      "helloworld...\n",
      "\n",
      "helloworld...\n",
      "\n",
      "hello\n",
      "world...\n",
      "world...\n",
      "hello\n",
      "Total time with thread : 6\n"
     ]
    }
   ],
   "source": [
    "start_time=time.time()\n",
    "\n",
    "thread1=threading.Thread(target=greeting1)\n",
    "thread2=threading.Thread(target=greeting2)\n",
    "\n",
    "thread1.start()\n",
    "thread2.start()\n",
    "\n",
    "thread1.join()\n",
    "thread2.join()\n",
    "\n",
    "\n",
    "end_time=time.time()\n",
    "\n",
    "print(\"Total time with thread : %d\" %(end_time-start_time))"
   ]
  }
 ],
 "metadata": {
  "interpreter": {
   "hash": "369f2c481f4da34e4445cda3fffd2e751bd1c4d706f27375911949ba6bb62e1c"
  },
  "kernelspec": {
   "display_name": "Python 3.10.1 64-bit",
   "language": "python",
   "name": "python3"
  },
  "language_info": {
   "codemirror_mode": {
    "name": "ipython",
    "version": 3
   },
   "file_extension": ".py",
   "mimetype": "text/x-python",
   "name": "python",
   "nbconvert_exporter": "python",
   "pygments_lexer": "ipython3",
   "version": "3.10.1"
  },
  "orig_nbformat": 4
 },
 "nbformat": 4,
 "nbformat_minor": 2
}
