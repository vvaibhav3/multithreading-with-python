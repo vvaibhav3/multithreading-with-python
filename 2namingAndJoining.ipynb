{
 "cells": [
  {
   "cell_type": "code",
   "execution_count": 4,
   "metadata": {},
   "outputs": [],
   "source": [
    "import threading\n",
    "import time"
   ]
  },
  {
   "cell_type": "code",
   "execution_count": 22,
   "metadata": {},
   "outputs": [],
   "source": [
    "# pretty print to format python output\n",
    "from pprint import pprint\n",
    "\n",
    "def threadInfoFunc():\n",
    "    print(\"Total threads active : \")\n",
    "    pprint(threading.active_count()) # to print total no of active threads\n",
    "    print(\"All threads list : \")\n",
    "    pprint(threading.enumerate()) # list of all active threads\n",
    "    print(\"Current thread info : \")\n",
    "    pprint(threading.current_thread()) # to print details of current thread"
   ]
  },
  {
   "cell_type": "code",
   "execution_count": 15,
   "metadata": {},
   "outputs": [],
   "source": [
    "def sleepFunc():\n",
    "    time.sleep(2)\n",
    "    print(\"I am sleeping...\\n\")"
   ]
  },
  {
   "cell_type": "code",
   "execution_count": 25,
   "metadata": {},
   "outputs": [
    {
     "name": "stdout",
     "output_type": "stream",
     "text": [
      "Total threads active : \n",
      "14\n",
      "All threads list : \n",
      "[<_MainThread(MainThread, started 8516)>,\n",
      " <Thread(IOPub, started daemon 10132)>,\n",
      " <Heartbeat(Heartbeat, started daemon 9864)>,\n",
      " <ControlThread(Control, started daemon 9052)>,\n",
      " <HistorySavingThread(IPythonHistorySavingThread, started 8508)>,\n",
      " <ParentPollerWindows(Thread-2, started daemon 9592)>,\n",
      " <Thread(Thread-4 (sleepFunc), started 7724)>,\n",
      " <Thread(Thread-5 (sleepFunc), started 10144)>,\n",
      " <Thread(Thread-6 (sleepFunc), started 6356)>,\n",
      " <Thread(Thread-7 (sleepFunc), started 7080)>,\n",
      " <Thread(Thread-8 (sleepFunc), started 2796)>,\n",
      " <Thread(Thread-9 (sleepFunc), started 7832)>,\n",
      " <Thread(Thread-10 (sleepFunc), started 7764)>,\n",
      " <Thread(Thread-19 (sleepFunc), started 7420)>]\n",
      "Current thread info : \n",
      "<_MainThread(MainThread, started 8516)>\n",
      "I am sleeping...\n",
      "\n"
     ]
    }
   ],
   "source": [
    "thread1=threading.Thread(target=sleepFunc)\n",
    "thread1.start()\n",
    "\n",
    "#check thread info\n",
    "threadInfoFunc()"
   ]
  },
  {
   "cell_type": "code",
   "execution_count": 26,
   "metadata": {},
   "outputs": [
    {
     "name": "stdout",
     "output_type": "stream",
     "text": [
      "Total threads active : \n",
      "14\n",
      "All threads list : \n",
      "[<_MainThread(MainThread, started 8516)>,\n",
      " <Thread(IOPub, started daemon 10132)>,\n",
      " <Heartbeat(Heartbeat, started daemon 9864)>,\n",
      " <ControlThread(Control, started daemon 9052)>,\n",
      " <HistorySavingThread(IPythonHistorySavingThread, started 8508)>,\n",
      " <ParentPollerWindows(Thread-2, started daemon 9592)>,\n",
      " <Thread(Thread-4 (sleepFunc), started 7724)>,\n",
      " <Thread(Thread-5 (sleepFunc), started 10144)>,\n",
      " <Thread(Thread-6 (sleepFunc), started 6356)>,\n",
      " <Thread(Thread-7 (sleepFunc), started 7080)>,\n",
      " <Thread(Thread-8 (sleepFunc), started 2796)>,\n",
      " <Thread(Thread-9 (sleepFunc), started 7832)>,\n",
      " <Thread(Thread-10 (sleepFunc), started 7764)>,\n",
      " <Thread(vaibhav's thread, started 1648)>]\n",
      "Current thread info : \n",
      "<_MainThread(MainThread, started 8516)>\n",
      "I am sleeping...\n",
      "\n"
     ]
    }
   ],
   "source": [
    "# giving name to thread\n",
    "thread2=threading.Thread(target=sleepFunc,name=\"vaibhav's thread\")\n",
    "thread2.start()\n",
    "\n",
    "#check thread info\n",
    "threadInfoFunc()"
   ]
  },
  {
   "cell_type": "code",
   "execution_count": 27,
   "metadata": {},
   "outputs": [
    {
     "name": "stdout",
     "output_type": "stream",
     "text": [
      "i am main thread\n",
      "I am sleeping...\n",
      "\n"
     ]
    }
   ],
   "source": [
    "# thread synchronization i.e wait for thread to complete it's execution \n",
    "thread3=threading.Thread(target=sleepFunc,name=\"vaibhav's thread\")\n",
    "thread3.start()\n",
    "\n",
    "print(\"i am main thread\")"
   ]
  },
  {
   "cell_type": "code",
   "execution_count": 28,
   "metadata": {},
   "outputs": [
    {
     "name": "stdout",
     "output_type": "stream",
     "text": [
      "I am sleeping...\n",
      "\n",
      "i am main thread\n"
     ]
    }
   ],
   "source": [
    "# thread synchronization i.e wait for thread to complete it's execution \n",
    "thread3=threading.Thread(target=sleepFunc,name=\"vaibhav's thread\")\n",
    "thread3.start()\n",
    "\n",
    "thread3.join()\n",
    "print(\"i am main thread\")"
   ]
  },
  {
   "cell_type": "code",
   "execution_count": 31,
   "metadata": {},
   "outputs": [
    {
     "ename": "RuntimeError",
     "evalue": "threads can only be started once",
     "output_type": "error",
     "traceback": [
      "\u001b[1;31m---------------------------------------------------------------------------\u001b[0m",
      "\u001b[1;31mRuntimeError\u001b[0m                              Traceback (most recent call last)",
      "\u001b[1;32md:\\Python multi threading\\namingAndJoining.ipynb Cell 8'\u001b[0m in \u001b[0;36m<cell line: 4>\u001b[1;34m()\u001b[0m\n\u001b[0;32m      <a href='vscode-notebook-cell:/d%3A/Python%20multi%20threading/namingAndJoining.ipynb#ch0000007?line=1'>2</a>\u001b[0m thread3\u001b[39m=\u001b[39mthreading\u001b[39m.\u001b[39mThread(target\u001b[39m=\u001b[39msleepFunc,name\u001b[39m=\u001b[39m\u001b[39m\"\u001b[39m\u001b[39mvaibhav\u001b[39m\u001b[39m'\u001b[39m\u001b[39ms thread\u001b[39m\u001b[39m\"\u001b[39m)\n\u001b[0;32m      <a href='vscode-notebook-cell:/d%3A/Python%20multi%20threading/namingAndJoining.ipynb#ch0000007?line=2'>3</a>\u001b[0m thread3\u001b[39m.\u001b[39mstart()\n\u001b[1;32m----> <a href='vscode-notebook-cell:/d%3A/Python%20multi%20threading/namingAndJoining.ipynb#ch0000007?line=3'>4</a>\u001b[0m thread3\u001b[39m.\u001b[39;49mstart()\n",
      "File \u001b[1;32mc:\\Python310\\lib\\threading.py:923\u001b[0m, in \u001b[0;36mThread.start\u001b[1;34m(self)\u001b[0m\n\u001b[0;32m    <a href='file:///c%3A/Python310/lib/threading.py?line=919'>920</a>\u001b[0m     \u001b[39mraise\u001b[39;00m \u001b[39mRuntimeError\u001b[39;00m(\u001b[39m\"\u001b[39m\u001b[39mthread.__init__() not called\u001b[39m\u001b[39m\"\u001b[39m)\n\u001b[0;32m    <a href='file:///c%3A/Python310/lib/threading.py?line=921'>922</a>\u001b[0m \u001b[39mif\u001b[39;00m \u001b[39mself\u001b[39m\u001b[39m.\u001b[39m_started\u001b[39m.\u001b[39mis_set():\n\u001b[1;32m--> <a href='file:///c%3A/Python310/lib/threading.py?line=922'>923</a>\u001b[0m     \u001b[39mraise\u001b[39;00m \u001b[39mRuntimeError\u001b[39;00m(\u001b[39m\"\u001b[39m\u001b[39mthreads can only be started once\u001b[39m\u001b[39m\"\u001b[39m)\n\u001b[0;32m    <a href='file:///c%3A/Python310/lib/threading.py?line=924'>925</a>\u001b[0m \u001b[39mwith\u001b[39;00m _active_limbo_lock:\n\u001b[0;32m    <a href='file:///c%3A/Python310/lib/threading.py?line=925'>926</a>\u001b[0m     _limbo[\u001b[39mself\u001b[39m] \u001b[39m=\u001b[39m \u001b[39mself\u001b[39m\n",
      "\u001b[1;31mRuntimeError\u001b[0m: threads can only be started once"
     ]
    },
    {
     "name": "stdout",
     "output_type": "stream",
     "text": [
      "I am sleeping...\n",
      "\n"
     ]
    }
   ],
   "source": [
    "# thread can be started only once\n",
    "thread3=threading.Thread(target=sleepFunc,name=\"vaibhav's thread\")\n",
    "thread3.start()\n",
    "thread3.start()"
   ]
  }
 ],
 "metadata": {
  "interpreter": {
   "hash": "369f2c481f4da34e4445cda3fffd2e751bd1c4d706f27375911949ba6bb62e1c"
  },
  "kernelspec": {
   "display_name": "Python 3.10.1 64-bit",
   "language": "python",
   "name": "python3"
  },
  "language_info": {
   "codemirror_mode": {
    "name": "ipython",
    "version": 3
   },
   "file_extension": ".py",
   "mimetype": "text/x-python",
   "name": "python",
   "nbconvert_exporter": "python",
   "pygments_lexer": "ipython3",
   "version": "3.10.1"
  },
  "orig_nbformat": 4
 },
 "nbformat": 4,
 "nbformat_minor": 2
}
