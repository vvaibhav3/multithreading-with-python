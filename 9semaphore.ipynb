{
 "cells": [
  {
   "cell_type": "code",
   "execution_count": 1,
   "metadata": {},
   "outputs": [],
   "source": [
    "import threading\n",
    "import time"
   ]
  },
  {
   "cell_type": "code",
   "execution_count": 2,
   "metadata": {},
   "outputs": [],
   "source": [
    "# not to focus on data consistency but on acessing no of resources parellely\n",
    "# to limit the parallelism\n",
    "# locks can released by only the thread which acquired the lock\n",
    "semaphore=threading.Semaphore()"
   ]
  },
  {
   "cell_type": "code",
   "execution_count": 3,
   "metadata": {},
   "outputs": [],
   "source": [
    "def myFunc():\n",
    "\n",
    "    semaphore.acquire() #decrease value of semaphore\n",
    "\n",
    "    time.sleep(0.1)\n",
    "    print(\"Thread : %s \"  % threading.current_thread().name)\n",
    "    print(\"Semaphore value after acquire : %d \" % semaphore._value)\n",
    "    time.sleep(5)\n",
    "\n",
    "    semaphore.release() #increase value of semaphore\n",
    "\n",
    "    print(\"Semaphore value after release : %d\" % semaphore._value)\n"
   ]
  },
  {
   "cell_type": "code",
   "execution_count": 4,
   "metadata": {},
   "outputs": [
    {
     "name": "stdout",
     "output_type": "stream",
     "text": [
      "Intial semaphore value : 1 \n"
     ]
    }
   ],
   "source": [
    "thread1=threading.Thread(target=myFunc)\n",
    "thread2=threading.Thread(target=myFunc)\n",
    "\n",
    "print(\"Intial semaphore value : %d \" % semaphore._value)\n",
    "\n",
    "# semaphore value 1 act as lock"
   ]
  },
  {
   "cell_type": "code",
   "execution_count": 5,
   "metadata": {},
   "outputs": [
    {
     "name": "stdout",
     "output_type": "stream",
     "text": [
      "Thread : Thread-3 (myFunc) \n",
      "Semaphore value after acquire : 0 \n",
      "Semaphore value after release : 1\n",
      "Thread : Thread-4 (myFunc) \n",
      "Semaphore value after acquire : 0 \n",
      "Semaphore value after release : 1\n",
      "Total time :  10.245487451553345\n"
     ]
    }
   ],
   "source": [
    "startTime=time.time()\n",
    "\n",
    "thread1.start()\n",
    "thread2.start()\n",
    "\n",
    "thread1.join()\n",
    "thread2.join()\n",
    "\n",
    "endTime=time.time()\n",
    "\n",
    "print(\"Total time : \", endTime-startTime)"
   ]
  },
  {
   "cell_type": "code",
   "execution_count": 6,
   "metadata": {},
   "outputs": [],
   "source": [
    "# semaphore with associated value\n",
    "# value = 3 meanse total 3 threads can acquire semaphore at a given time\n",
    "semaphore2=threading.Semaphore(value=3)"
   ]
  },
  {
   "cell_type": "code",
   "execution_count": 7,
   "metadata": {},
   "outputs": [],
   "source": [
    "def myFunc2():\n",
    "\n",
    "    semaphore2.acquire()\n",
    "\n",
    "    time.sleep(0.1)\n",
    "    print(\"Thread : %s \"  % threading.current_thread().name)\n",
    "    print(\"Semaphore value after acquire : %d \" % semaphore2._value)\n",
    "    time.sleep(5)\n",
    "\n",
    "    semaphore2.release()\n",
    "\n",
    "    print(\"Semaphore value after release : %d\" % semaphore2._value)\n"
   ]
  },
  {
   "cell_type": "code",
   "execution_count": 8,
   "metadata": {},
   "outputs": [],
   "source": [
    "t1=threading.Thread(target=myFunc2)\n",
    "t2=threading.Thread(target=myFunc2)\n",
    "t3=threading.Thread(target=myFunc2)\n",
    "t4=threading.Thread(target=myFunc2)\n",
    "t5=threading.Thread(target=myFunc2)\n",
    "t6=threading.Thread(target=myFunc2)\n",
    "t7=threading.Thread(target=myFunc2)\n",
    "t8=threading.Thread(target=myFunc2)\n"
   ]
  },
  {
   "cell_type": "code",
   "execution_count": 9,
   "metadata": {},
   "outputs": [
    {
     "name": "stdout",
     "output_type": "stream",
     "text": [
      "Thread : Thread-7 (myFunc2) Thread : Thread-6 (myFunc2) \n",
      "Semaphore value after acquire : 0 \n",
      "Thread : Thread-5 (myFunc2) \n",
      "Semaphore value after acquire : 0 \n",
      "\n",
      "Semaphore value after acquire : 0 \n",
      "Semaphore value after release : 1Semaphore value after release : 2\n",
      "Semaphore value after release : 1\n",
      "\n",
      "Thread : Thread-10 (myFunc2) \n",
      "Semaphore value after acquire : 0 \n",
      "Thread : Thread-9 (myFunc2) \n",
      "Semaphore value after acquire : 0 \n",
      "Thread : Thread-8 (myFunc2) \n",
      "Semaphore value after acquire : 0 \n",
      "Semaphore value after release : 1Semaphore value after release : 1\n",
      "\n",
      "Semaphore value after release : 1\n",
      "Thread : Thread-12 (myFunc2) \n",
      "Semaphore value after acquire : 1 \n",
      "Thread : Thread-11 (myFunc2) \n",
      "Semaphore value after acquire : 1 \n",
      "Semaphore value after release : 2\n",
      "Semaphore value after release : 3\n",
      "Total time :  15.563804388046265\n"
     ]
    }
   ],
   "source": [
    "startTime=time.time()\n",
    "\n",
    "t1.start()\n",
    "t2.start()\n",
    "t3.start()\n",
    "t4.start()\n",
    "t5.start()\n",
    "t6.start()\n",
    "t7.start()\n",
    "t8.start()\n",
    "\n",
    "t1.join()\n",
    "t2.join()\n",
    "t3.join()\n",
    "t4.join()\n",
    "t5.join()\n",
    "t6.join()\n",
    "t7.join()\n",
    "t8.join()\n",
    "\n",
    "endTime=time.time()\n",
    "\n",
    "print(\"Total time : \", endTime-startTime)"
   ]
  },
  {
   "cell_type": "code",
   "execution_count": 10,
   "metadata": {},
   "outputs": [
    {
     "ename": "ValueError",
     "evalue": "semaphore initial value must be >= 0",
     "output_type": "error",
     "traceback": [
      "\u001b[1;31m---------------------------------------------------------------------------\u001b[0m",
      "\u001b[1;31mValueError\u001b[0m                                Traceback (most recent call last)",
      "\u001b[1;32md:\\Python multi threading\\semaphore.ipynb Cell 10'\u001b[0m in \u001b[0;36m<cell line: 1>\u001b[1;34m()\u001b[0m\n\u001b[1;32m----> <a href='vscode-notebook-cell:/d%3A/Python%20multi%20threading/semaphore.ipynb#ch0000009?line=0'>1</a>\u001b[0m semaphore3\u001b[39m=\u001b[39mthreading\u001b[39m.\u001b[39;49mSemaphore(value\u001b[39m=\u001b[39;49m\u001b[39m-\u001b[39;49m\u001b[39m1\u001b[39;49m)\n",
      "File \u001b[1;32mc:\\Python310\\lib\\threading.py:417\u001b[0m, in \u001b[0;36mSemaphore.__init__\u001b[1;34m(self, value)\u001b[0m\n\u001b[0;32m    <a href='file:///c%3A/Python310/lib/threading.py?line=414'>415</a>\u001b[0m \u001b[39mdef\u001b[39;00m \u001b[39m__init__\u001b[39m(\u001b[39mself\u001b[39m, value\u001b[39m=\u001b[39m\u001b[39m1\u001b[39m):\n\u001b[0;32m    <a href='file:///c%3A/Python310/lib/threading.py?line=415'>416</a>\u001b[0m     \u001b[39mif\u001b[39;00m value \u001b[39m<\u001b[39m \u001b[39m0\u001b[39m:\n\u001b[1;32m--> <a href='file:///c%3A/Python310/lib/threading.py?line=416'>417</a>\u001b[0m         \u001b[39mraise\u001b[39;00m \u001b[39mValueError\u001b[39;00m(\u001b[39m\"\u001b[39m\u001b[39msemaphore initial value must be >= 0\u001b[39m\u001b[39m\"\u001b[39m)\n\u001b[0;32m    <a href='file:///c%3A/Python310/lib/threading.py?line=417'>418</a>\u001b[0m     \u001b[39mself\u001b[39m\u001b[39m.\u001b[39m_cond \u001b[39m=\u001b[39m Condition(Lock())\n\u001b[0;32m    <a href='file:///c%3A/Python310/lib/threading.py?line=418'>419</a>\u001b[0m     \u001b[39mself\u001b[39m\u001b[39m.\u001b[39m_value \u001b[39m=\u001b[39m value\n",
      "\u001b[1;31mValueError\u001b[0m: semaphore initial value must be >= 0"
     ]
    }
   ],
   "source": [
    "# value must be >=0\n",
    "semaphore3=threading.Semaphore(value=-1)"
   ]
  },
  {
   "cell_type": "code",
   "execution_count": 11,
   "metadata": {},
   "outputs": [],
   "source": [
    "# 0 to say that semphore must be released before acquired\n",
    "semaphore4=threading.Semaphore(0)"
   ]
  },
  {
   "cell_type": "code",
   "execution_count": 12,
   "metadata": {},
   "outputs": [],
   "source": [
    "# restuarant demo\n",
    "# order can be placed only when if it is prepared\n",
    "orderNum=0"
   ]
  },
  {
   "cell_type": "code",
   "execution_count": 15,
   "metadata": {},
   "outputs": [],
   "source": [
    "def placeOrder():\n",
    "    print(\"Order placed\")\n",
    "    semaphore4.acquire()\n",
    "    print(\"Customer order no : %d \" % orderNum)\n",
    "\n",
    "def prepareOrder():\n",
    "    global orderNum\n",
    "    time.sleep(3)\n",
    "    orderNum+=1\n",
    "    print(\"Preparing order no : %d \" % orderNum)\n",
    "    semaphore4.release()\n",
    "\n",
    "# since semaphore intial value is 0 firstly semaphore value must be increased so release should be called"
   ]
  },
  {
   "cell_type": "code",
   "execution_count": 17,
   "metadata": {},
   "outputs": [
    {
     "name": "stdout",
     "output_type": "stream",
     "text": [
      "Order placed\n",
      "Preparing order no : 7 \n",
      "Customer order no : 7 \n",
      "Order placed\n",
      "Preparing order no : 8 \n",
      "Customer order no : 8 \n",
      "Order placed\n",
      "Preparing order no : 9 \n",
      "Customer order no : 9 \n",
      "Order placed\n",
      "Preparing order no : 10 \n",
      "Customer order no : 10 \n",
      "Order placed\n",
      "Preparing order no : 11 \n",
      "Customer order no : 11 \n",
      "Order placed\n",
      "Preparing order no : 12 \n",
      "Customer order no : 12 \n",
      "Program finished\n"
     ]
    }
   ],
   "source": [
    "# creating 6 threads\n",
    "# what we get is that semaphore can be released before it acquired this is different from locks\n",
    "for i in range(0,6):\n",
    "    t1=threading.Thread(target=prepareOrder)\n",
    "    t2=threading.Thread(target=placeOrder)\n",
    "\n",
    "    t1.start()\n",
    "    t2.start()\n",
    "\n",
    "    t1.join()\n",
    "    t2.join()\n",
    "\n",
    "print(\"Program finished\")"
   ]
  },
  {
   "cell_type": "code",
   "execution_count": 19,
   "metadata": {},
   "outputs": [
    {
     "name": "stdout",
     "output_type": "stream",
     "text": [
      "Semaphore value :  6\n"
     ]
    }
   ],
   "source": [
    "semaphore4.release()\n",
    "semaphore4.release()\n",
    "semaphore4.release()\n",
    "# there is no strict boundry to semaphore value \n",
    "# so resources can be accessed by any no of threads or there might be some issue when accessing no of resource \n",
    "print(\"Semaphore value : \" , semaphore4._value )"
   ]
  },
  {
   "cell_type": "code",
   "execution_count": 20,
   "metadata": {},
   "outputs": [
    {
     "name": "stdout",
     "output_type": "stream",
     "text": [
      "Semaphore 5 value :  0\n"
     ]
    }
   ],
   "source": [
    "# so bounded semaphore have stricly uper bound\n",
    "# strict amount of concurrency on resource\n",
    "semaphore5=threading.BoundedSemaphore(1)\n",
    "semaphore5.acquire()\n",
    "print(\"Semaphore 5 value : \" , semaphore5._value)"
   ]
  },
  {
   "cell_type": "code",
   "execution_count": 22,
   "metadata": {},
   "outputs": [
    {
     "ename": "ValueError",
     "evalue": "Semaphore released too many times",
     "output_type": "error",
     "traceback": [
      "\u001b[1;31m---------------------------------------------------------------------------\u001b[0m",
      "\u001b[1;31mValueError\u001b[0m                                Traceback (most recent call last)",
      "\u001b[1;32md:\\Python multi threading\\semaphore.ipynb Cell 17'\u001b[0m in \u001b[0;36m<cell line: 1>\u001b[1;34m()\u001b[0m\n\u001b[1;32m----> <a href='vscode-notebook-cell:/d%3A/Python%20multi%20threading/semaphore.ipynb#ch0000017?line=0'>1</a>\u001b[0m semaphore5\u001b[39m.\u001b[39;49mrelease()\n\u001b[0;32m      <a href='vscode-notebook-cell:/d%3A/Python%20multi%20threading/semaphore.ipynb#ch0000017?line=1'>2</a>\u001b[0m \u001b[39m# this will give error becoz the bound is to semaphore value 1\u001b[39;00m\n\u001b[0;32m      <a href='vscode-notebook-cell:/d%3A/Python%20multi%20threading/semaphore.ipynb#ch0000017?line=2'>3</a>\u001b[0m semaphore5\u001b[39m.\u001b[39mrelease()\n",
      "File \u001b[1;32mc:\\Python310\\lib\\threading.py:521\u001b[0m, in \u001b[0;36mBoundedSemaphore.release\u001b[1;34m(self, n)\u001b[0m\n\u001b[0;32m    <a href='file:///c%3A/Python310/lib/threading.py?line=518'>519</a>\u001b[0m \u001b[39mwith\u001b[39;00m \u001b[39mself\u001b[39m\u001b[39m.\u001b[39m_cond:\n\u001b[0;32m    <a href='file:///c%3A/Python310/lib/threading.py?line=519'>520</a>\u001b[0m     \u001b[39mif\u001b[39;00m \u001b[39mself\u001b[39m\u001b[39m.\u001b[39m_value \u001b[39m+\u001b[39m n \u001b[39m>\u001b[39m \u001b[39mself\u001b[39m\u001b[39m.\u001b[39m_initial_value:\n\u001b[1;32m--> <a href='file:///c%3A/Python310/lib/threading.py?line=520'>521</a>\u001b[0m         \u001b[39mraise\u001b[39;00m \u001b[39mValueError\u001b[39;00m(\u001b[39m\"\u001b[39m\u001b[39mSemaphore released too many times\u001b[39m\u001b[39m\"\u001b[39m)\n\u001b[0;32m    <a href='file:///c%3A/Python310/lib/threading.py?line=521'>522</a>\u001b[0m     \u001b[39mself\u001b[39m\u001b[39m.\u001b[39m_value \u001b[39m+\u001b[39m\u001b[39m=\u001b[39m n\n\u001b[0;32m    <a href='file:///c%3A/Python310/lib/threading.py?line=522'>523</a>\u001b[0m     \u001b[39mfor\u001b[39;00m i \u001b[39min\u001b[39;00m \u001b[39mrange\u001b[39m(n):\n",
      "\u001b[1;31mValueError\u001b[0m: Semaphore released too many times"
     ]
    }
   ],
   "source": [
    "semaphore5.release()\n",
    "# this will give error becoz the bound is to semaphore value 1\n",
    "semaphore5.release()\n",
    "\n",
    "print(\"Semaphore 5 value : \" , semaphore5._value)"
   ]
  }
 ],
 "metadata": {
  "interpreter": {
   "hash": "369f2c481f4da34e4445cda3fffd2e751bd1c4d706f27375911949ba6bb62e1c"
  },
  "kernelspec": {
   "display_name": "Python 3.10.1 64-bit",
   "language": "python",
   "name": "python3"
  },
  "language_info": {
   "codemirror_mode": {
    "name": "ipython",
    "version": 3
   },
   "file_extension": ".py",
   "mimetype": "text/x-python",
   "name": "python",
   "nbconvert_exporter": "python",
   "pygments_lexer": "ipython3",
   "version": "3.10.1"
  },
  "orig_nbformat": 4
 },
 "nbformat": 4,
 "nbformat_minor": 2
}
