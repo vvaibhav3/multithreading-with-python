{
 "cells": [
  {
   "cell_type": "code",
   "execution_count": 2,
   "metadata": {},
   "outputs": [],
   "source": [
    "import threading\n",
    "amount=0"
   ]
  },
  {
   "cell_type": "code",
   "execution_count": 5,
   "metadata": {},
   "outputs": [],
   "source": [
    "def deposit(depAmount,depLock):\n",
    "    global amount\n",
    "    # to understand synchronization more clearly\n",
    "    for i in range(depAmount):\n",
    "\n",
    "        #only one thread access shared variable at a time\n",
    "        depLock.acquire()\n",
    "        amount+=1\n",
    "        depLock.release()"
   ]
  },
  {
   "cell_type": "code",
   "execution_count": 6,
   "metadata": {},
   "outputs": [],
   "source": [
    "def twoThreadsDeposit(depAmount):\n",
    "    \n",
    "    # instance of lock\n",
    "    lock=threading.Lock()\n",
    "\n",
    "    # passing same lock instance to threads\n",
    "    thread1=threading.Thread(target=deposit,args=(depAmount,lock))\n",
    "    thread2=threading.Thread(target=deposit,args=(depAmount,lock))\n",
    "\n",
    "    thread1.start()\n",
    "    thread2.start()\n",
    "\n",
    "    thread1.join()\n",
    "    thread2.join()"
   ]
  },
  {
   "cell_type": "code",
   "execution_count": 8,
   "metadata": {},
   "outputs": [
    {
     "name": "stdout",
     "output_type": "stream",
     "text": [
      "Amount : 20000000\n"
     ]
    }
   ],
   "source": [
    "amount=0\n",
    "# this always gives required result\n",
    "twoThreadsDeposit(10000000)\n",
    "print(\"Amount : %s\" %(amount))"
   ]
  },
  {
   "cell_type": "code",
   "execution_count": 9,
   "metadata": {},
   "outputs": [
    {
     "name": "stdout",
     "output_type": "stream",
     "text": [
      "Lock :  True\n"
     ]
    }
   ],
   "source": [
    "# same thread can acquire lock only once without realsing lock if you acquire lock again this will go in infinite waiting\n",
    "\n",
    "# instance of lock\n",
    "lock=threading.Lock()\n",
    "\n",
    "print(\"Lock : \",lock.acquire())\n",
    "\n",
    "print(\"Lock : \",lock.acquire())"
   ]
  },
  {
   "cell_type": "code",
   "execution_count": 3,
   "metadata": {},
   "outputs": [
    {
     "name": "stdout",
     "output_type": "stream",
     "text": [
      "1st Lock :  True\n",
      "2nd Lock :  False\n"
     ]
    }
   ],
   "source": [
    "# to avoid infinite wait\n",
    "\n",
    "# instance of lock\n",
    "lock=threading.Lock()\n",
    "\n",
    "print(\"1st Lock : \",lock.acquire())\n",
    "\n",
    "print(\"2nd Lock : \",lock.acquire(timeout=3))"
   ]
  },
  {
   "cell_type": "code",
   "execution_count": 5,
   "metadata": {},
   "outputs": [
    {
     "name": "stdout",
     "output_type": "stream",
     "text": [
      "1st Lock :  True\n",
      "2nd Lock :  True\n"
     ]
    }
   ],
   "source": [
    "# allowing same thread to acquire same lock again and again and blocking other threads\n",
    "\n",
    "#renterrant lock\n",
    "lock=threading.RLock()\n",
    "\n",
    "print(\"1st Lock : \",lock.acquire())\n",
    "\n",
    "print(\"2nd Lock : \",lock.acquire())\n"
   ]
  }
 ],
 "metadata": {
  "interpreter": {
   "hash": "369f2c481f4da34e4445cda3fffd2e751bd1c4d706f27375911949ba6bb62e1c"
  },
  "kernelspec": {
   "display_name": "Python 3.10.1 64-bit",
   "language": "python",
   "name": "python3"
  },
  "language_info": {
   "codemirror_mode": {
    "name": "ipython",
    "version": 3
   },
   "file_extension": ".py",
   "mimetype": "text/x-python",
   "name": "python",
   "nbconvert_exporter": "python",
   "pygments_lexer": "ipython3",
   "version": "3.10.1"
  },
  "orig_nbformat": 4
 },
 "nbformat": 4,
 "nbformat_minor": 2
}
