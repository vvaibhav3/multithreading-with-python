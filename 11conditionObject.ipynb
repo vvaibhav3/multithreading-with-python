{
 "cells": [
  {
   "cell_type": "code",
   "execution_count": 1,
   "metadata": {},
   "outputs": [],
   "source": [
    "import threading\n",
    "import time\n",
    "import random"
   ]
  },
  {
   "cell_type": "code",
   "execution_count": 3,
   "metadata": {},
   "outputs": [],
   "source": [
    "# condition object is just like an event object but with adition of lock for providing mutual exxxclusive access\n",
    "condtion=threading.Condition()"
   ]
  },
  {
   "cell_type": "code",
   "execution_count": 4,
   "metadata": {},
   "outputs": [],
   "source": [
    "# producer consumer example\n",
    "container = [] # list of news items\n",
    "counter = 1 # no of news items\n",
    "moreToCome=True # to produce new items used by producer"
   ]
  },
  {
   "cell_type": "code",
   "execution_count": 5,
   "metadata": {},
   "outputs": [],
   "source": [
    "def produce():\n",
    "    global container\n",
    "    global counter\n",
    "    global moreToCome\n",
    "\n",
    "    for i in range(5):\n",
    "\n",
    "        time.sleep(random.randrange(2,5))\n",
    "        condtion.acquire()\n",
    "\n",
    "        item = \"News item #\"+str(counter)\n",
    "        container.append(item)\n",
    "\n",
    "        counter+=1\n",
    "\n",
    "        print(\"Produced : \", item)\n",
    "        condtion.notify_all() # to wake up all waiting threads\n",
    "\n",
    "        condtion.release()\n",
    "    \n",
    "    moreToCome=False"
   ]
  },
  {
   "cell_type": "code",
   "execution_count": 6,
   "metadata": {},
   "outputs": [],
   "source": [
    "def consume():\n",
    "    global moreToCome\n",
    "\n",
    "    while(moreToCome):\n",
    "\n",
    "        condtion.acquire()\n",
    "        condtion.wait() # wait until another thread notify\n",
    "\n",
    "        time.sleep(random.random())\n",
    "        print(threading.current_thread().name,\" acquired \",container[-1])\n",
    "\n",
    "        condtion.release()"
   ]
  },
  {
   "cell_type": "code",
   "execution_count": 7,
   "metadata": {},
   "outputs": [],
   "source": [
    "producer=threading.Thread(target=produce)\n",
    "\n",
    "consumer1=threading.Thread(target=consume,name=\"C1\")\n",
    "consumer2=threading.Thread(target=consume,name=\"C2\")\n",
    "consumer3=threading.Thread(target=consume,name=\"C3\")"
   ]
  },
  {
   "cell_type": "code",
   "execution_count": 8,
   "metadata": {},
   "outputs": [
    {
     "name": "stdout",
     "output_type": "stream",
     "text": [
      "Produced :  News item #1\n",
      "C1  acquired  News item #1\n",
      "C3  acquired  News item #1\n",
      "C2  acquired  News item #1\n",
      "Produced :  News item #2\n",
      "C3  acquired  News item #2\n",
      "C2  acquired  News item #2\n",
      "C1  acquired  News item #2\n",
      "Produced :  News item #3\n",
      "C3  acquired  News item #3\n",
      "C2  acquired  News item #3\n",
      "C1  acquired  News item #3\n",
      "Produced :  News item #4\n",
      "C2  acquired  News item #4\n",
      "C3  acquired  News item #4\n",
      "C1  acquired  News item #4\n",
      "Produced :  News item #5\n",
      "C3  acquired  News item #5\n",
      "C1  acquired  News item #5\n",
      "C2  acquired  News item #5\n",
      "All done\n"
     ]
    }
   ],
   "source": [
    "threads=[producer,consumer1,consumer2,consumer3]\n",
    "\n",
    "for t in threads:\n",
    "    t.start()\n",
    "\n",
    "for t in threads:\n",
    "    t.join()\n",
    "\n",
    "time.sleep(1)\n",
    "print(\"All done\")"
   ]
  }
 ],
 "metadata": {
  "interpreter": {
   "hash": "369f2c481f4da34e4445cda3fffd2e751bd1c4d706f27375911949ba6bb62e1c"
  },
  "kernelspec": {
   "display_name": "Python 3.10.1 64-bit",
   "language": "python",
   "name": "python3"
  },
  "language_info": {
   "codemirror_mode": {
    "name": "ipython",
    "version": 3
   },
   "file_extension": ".py",
   "mimetype": "text/x-python",
   "name": "python",
   "nbconvert_exporter": "python",
   "pygments_lexer": "ipython3",
   "version": "3.10.1"
  },
  "orig_nbformat": 4
 },
 "nbformat": 4,
 "nbformat_minor": 2
}
