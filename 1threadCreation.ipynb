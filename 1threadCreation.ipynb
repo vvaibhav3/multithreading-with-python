{
 "cells": [
  {
   "cell_type": "code",
   "execution_count": 1,
   "metadata": {},
   "outputs": [],
   "source": [
    "import threading"
   ]
  },
  {
   "cell_type": "code",
   "execution_count": 16,
   "metadata": {},
   "outputs": [],
   "source": [
    "# pretty print to format python output\n",
    "from pprint import pprint\n",
    "\n",
    "def threadInfoFunc():\n",
    "    print(\"Total threads active : \")\n",
    "    pprint(threading.active_count()) # to print total no of active threads\n",
    "    print(\"All threads list : \")\n",
    "    pprint(threading.enumerate()) # list of all active threads\n",
    "    print(\"Current thread info : \")\n",
    "    pprint(threading.current_thread()) # to print details of current thread"
   ]
  },
  {
   "cell_type": "code",
   "execution_count": 17,
   "metadata": {},
   "outputs": [
    {
     "name": "stdout",
     "output_type": "stream",
     "text": [
      "Total threads active : \n",
      "6\n",
      "All threads list : \n",
      "[<_MainThread(MainThread, started 3820)>,\n",
      " <Thread(IOPub, started daemon 9412)>,\n",
      " <Heartbeat(Heartbeat, started daemon 4156)>,\n",
      " <ControlThread(Control, started daemon 7036)>,\n",
      " <HistorySavingThread(IPythonHistorySavingThread, started 4404)>,\n",
      " <ParentPollerWindows(Thread-2, started daemon 10228)>]\n",
      "Current thread info : \n",
      "<_MainThread(MainThread, started 3820)>\n"
     ]
    }
   ],
   "source": [
    "threadInfoFunc()"
   ]
  },
  {
   "cell_type": "code",
   "execution_count": 20,
   "metadata": {},
   "outputs": [
    {
     "name": "stdout",
     "output_type": "stream",
     "text": [
      "Total threads active : \n",
      "6\n",
      "All threads list : \n",
      "[<_MainThread(MainThread, started 3820)>,\n",
      " <Thread(IOPub, started daemon 9412)>,\n",
      " <Heartbeat(Heartbeat, started daemon 4156)>,\n",
      " <ControlThread(Control, started daemon 7036)>,\n",
      " <HistorySavingThread(IPythonHistorySavingThread, started 4404)>,\n",
      " <ParentPollerWindows(Thread-2, started daemon 10228)>]\n",
      "Current thread info : \n",
      "<_MainThread(MainThread, started 3820)>\n"
     ]
    }
   ],
   "source": [
    "# creating new thread\n",
    "\n",
    "firstThread=threading.Thread() # creating instance of thread\n",
    "firstThread.start() # starting the thread\n",
    "\n",
    "#now check thread infos\n",
    "threadInfoFunc() \n",
    "\n",
    "# nothing will be changed becoz not associated any function to thread"
   ]
  },
  {
   "cell_type": "code",
   "execution_count": 19,
   "metadata": {},
   "outputs": [
    {
     "name": "stdout",
     "output_type": "stream",
     "text": [
      "I am thread....\n",
      "Total threads active : \n",
      "7\n",
      "All threads list : \n",
      "[<_MainThread(MainThread, started 3820)>,\n",
      " <Thread(IOPub, started daemon 9412)>,\n",
      " <Heartbeat(Heartbeat, started daemon 4156)>,\n",
      " <ControlThread(Control, started daemon 7036)>,\n",
      " <HistorySavingThread(IPythonHistorySavingThread, started 4404)>,\n",
      " <ParentPollerWindows(Thread-2, started daemon 10228)>,\n",
      " <Thread(Thread-10 (myThreadFunc), started 10036)>]\n",
      "Current thread info : \n",
      "<_MainThread(MainThread, started 3820)>\n",
      "\n"
     ]
    }
   ],
   "source": [
    "# creating new thread and associating thread with function\n",
    "\n",
    "def myThreadFunc():\n",
    "    print(\"I am thread....\\n\")\n",
    "\n",
    "firstThread=threading.Thread(target=myThreadFunc) # creating instance of thread\n",
    "firstThread.start() # starting the thread\n",
    "\n",
    "\n",
    "#now check thread infos\n",
    "threadInfoFunc()"
   ]
  }
 ],
 "metadata": {
  "interpreter": {
   "hash": "369f2c481f4da34e4445cda3fffd2e751bd1c4d706f27375911949ba6bb62e1c"
  },
  "kernelspec": {
   "display_name": "Python 3.10.1 64-bit",
   "language": "python",
   "name": "python3"
  },
  "language_info": {
   "codemirror_mode": {
    "name": "ipython",
    "version": 3
   },
   "file_extension": ".py",
   "mimetype": "text/x-python",
   "name": "python",
   "nbconvert_exporter": "python",
   "pygments_lexer": "ipython3",
   "version": "3.10.1"
  },
  "orig_nbformat": 4
 },
 "nbformat": 4,
 "nbformat_minor": 2
}
